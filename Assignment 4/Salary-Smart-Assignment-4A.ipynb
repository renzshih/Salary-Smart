{
 "cells": [
  {
   "cell_type": "markdown",
   "metadata": {},
   "source": [
    "# Assignment 4"
   ]
  },
  {
   "cell_type": "markdown",
   "metadata": {},
   "source": [
    "Group Members: Cruz, Melliza, Shih, Tio, Uykingtian"
   ]
  },
  {
   "cell_type": "markdown",
   "metadata": {},
   "source": [
    "## Using a NoSQL Database from Python\n",
    "\n",
    "\n",
    "Since we have time constraints in coming up with functional and sleek prototypes for the final project, I figured to introduce NoSQL to the class as a graded final assignment.\n",
    "\n",
    "A **NoSQL** (originally referring to \"non SQL\" or \"non relational\") database provides a mechanism for storage and retrieval of data that is modeled in means other than the tabular relations used in SQL-based relational databases like MySQL. *(Definition derived from Wikipedia)*\n",
    "\n",
    "Such databases have existed since the late 1960s, but did not obtain the \"NoSQL\" moniker until a surge of popularity in the early 21st century, triggered by the needs of Web 2.0 companies. NoSQL databases are increasingly used in big data and real-time web applications. \n",
    "\n",
    "NoSQL systems are also sometimes called \"Not only SQL\" to emphasize that they may support SQL-like query languages, or sit alongside SQL databases.\n",
    "\n",
    "An example of a NoSQL is MongoDB, which you can download for free from https://mongodb.com.\n"
   ]
  },
  {
   "cell_type": "markdown",
   "metadata": {},
   "source": [
    "### 1) Setup \n",
    "\n",
    "I decided to make this a graded section as acknowledgment that things can go wrong during setup and installation. With this, should you encounter any errors, I expect you to Google and search from tech forum sites like StackOverflow for answers. Off-hand, if you have a clean Anaconda installation, there shouldn't be any problems; otherwise, you may have to reinstall Anaconda."
   ]
  },
  {
   "cell_type": "markdown",
   "metadata": {},
   "source": [
    "#### 1a) Download and install MongoDB on your Windows or MacOS laptop if you already haven't done so yet.\n",
    "\n",
    "**(2 points)**"
   ]
  },
  {
   "cell_type": "markdown",
   "metadata": {},
   "source": [
    "#### 1b)  Setup Python libraries to use with MongoDB\n",
    "\n",
    "From Anaconda and/or Jupyter Notebook, install PyMongo.\n",
    "\n",
    "The code and sample output are already found on the next cell for you to execute.\n",
    "\n",
    "**(2 points)**"
   ]
  },
  {
   "cell_type": "code",
   "execution_count": 2,
   "metadata": {},
   "outputs": [
    {
     "name": "stdout",
     "output_type": "stream",
     "text": [
      "Collecting package metadata (repodata.json): done\n",
      "Solving environment: done\n",
      "\n",
      "# All requested packages already installed.\n",
      "\n",
      "\n",
      "Note: you may need to restart the kernel to use updated packages.\n"
     ]
    }
   ],
   "source": [
    "conda install pymongo"
   ]
  },
  {
   "cell_type": "markdown",
   "metadata": {},
   "source": [
    "#### 1c) Test PyMongo Installation\n",
    "\n",
    "To test if the PyMongo installation succeeded, import the PyMongo module. You shouldn't see any errors come out.\n",
    "\n",
    "The command has already been provided for you below.\n",
    "\n",
    "If there are problems, try restarting the Kernel of this notebook or the whole Jupyter notebook.\n",
    "\n",
    "**(2 points)**"
   ]
  },
  {
   "cell_type": "code",
   "execution_count": 1,
   "metadata": {},
   "outputs": [],
   "source": [
    "import pymongo"
   ]
  },
  {
   "cell_type": "markdown",
   "metadata": {},
   "source": [
    "### 2) Creating databases\n",
    "\n",
    "In MongoDB, databases hold collections of documents."
   ]
  },
  {
   "cell_type": "markdown",
   "metadata": {},
   "source": [
    "We will create three initial databases for our fictitious retail business: \n",
    "\n",
    "* `products`: stores product information including prices and current inventory quantities\n",
    "* `order_management`: stores customer sales order transactions\n",
    "* `hr`: stores employee information, including salaries and employment status\n",
    "\n",
    "In reality, MongoDB does not create the databases until content is made available, but the following commands will provide database placeholders already.\n",
    "\n",
    "**Note:** Python acts as a *client* to the MongoDB *server*, hence the use of the variable name `myclient`. Recall the term **client-server** as discussed in yesterday's lecture."
   ]
  },
  {
   "cell_type": "markdown",
   "metadata": {},
   "source": [
    "#### 2a) Create the database placeholders\n",
    "\n",
    "Run the cell below to create the databases we will need for the rest of this Assignment.\n",
    "\n",
    "**(2 points)**"
   ]
  },
  {
   "cell_type": "code",
   "execution_count": 2,
   "metadata": {},
   "outputs": [],
   "source": [
    "# run this cell to create the databases needed for the rest of this Assignment\n",
    "\n",
    "import pymongo\n",
    "\n",
    "myclient = pymongo.MongoClient(\"mongodb://localhost:27017/\")\n",
    "\n",
    "products_db = myclient[\"products\"]\n",
    "order_management_db = myclient[\"order_management\"]\n",
    "hr_db = myclient[\"hr\"]"
   ]
  },
  {
   "cell_type": "markdown",
   "metadata": {},
   "source": [
    "Check if the databases have been created. You'll notice that since we haven't created content yet, the databases we created will not show up."
   ]
  },
  {
   "cell_type": "code",
   "execution_count": 3,
   "metadata": {},
   "outputs": [
    {
     "name": "stdout",
     "output_type": "stream",
     "text": [
      "['admin', 'config', 'hr', 'local', 'order_management', 'products']\n"
     ]
    }
   ],
   "source": [
    "print(myclient.list_database_names())"
   ]
  },
  {
   "cell_type": "markdown",
   "metadata": {},
   "source": [
    "### 3) Create Collections\n",
    "\n"
   ]
  },
  {
   "cell_type": "markdown",
   "metadata": {},
   "source": [
    "#### 3a) Warm-up\n",
    "\n",
    "Run the cell below to create our first collection `customers` in the `order_management` database.\n",
    "\n",
    "Note that we already assigned the reference to the order_management database to the variable `order_management_db`.\n",
    "\n",
    "**(2 points)**"
   ]
  },
  {
   "cell_type": "code",
   "execution_count": 4,
   "metadata": {},
   "outputs": [],
   "source": [
    "customers_col = order_management_db['customers']"
   ]
  },
  {
   "cell_type": "code",
   "execution_count": 5,
   "metadata": {},
   "outputs": [
    {
     "name": "stdout",
     "output_type": "stream",
     "text": [
      "['sales_orders', 'customers']\n"
     ]
    }
   ],
   "source": [
    "# Check if collection has been created; none will show up yet because there's no content.\n",
    "print(order_management_db.list_collection_names())"
   ]
  },
  {
   "cell_type": "markdown",
   "metadata": {},
   "source": [
    "#### 3b) Inserting Documents\n",
    "\n",
    "**(2 points)**"
   ]
  },
  {
   "cell_type": "code",
   "execution_count": 6,
   "metadata": {},
   "outputs": [],
   "source": [
    "customer = { \"first_name\": \"Rodrigo\", \"last_name\": \"Duterte\", \"city\": \"Manila\", \"points\":1000 }\n",
    "\n",
    "x = customers_col.insert_one(customer)\n"
   ]
  },
  {
   "cell_type": "markdown",
   "metadata": {},
   "source": [
    "The `insert_one()` method returns a InsertOneResult object, which has a property, `inserted_id`, that holds the id of the inserted document. Depending on your final projects, you may or may not find this property useful. Note that the value returned may vary from what others may get."
   ]
  },
  {
   "cell_type": "code",
   "execution_count": 7,
   "metadata": {},
   "outputs": [
    {
     "name": "stdout",
     "output_type": "stream",
     "text": [
      "5d38026ea7fba3b9bdedef4f\n"
     ]
    }
   ],
   "source": [
    "# insert another\n",
    "customer = { \"first_name\": \"Rodrigo\", \"last_name\": \"Duterte\", \"city\": \"Manila\", \"points\":1000 }\n",
    "\n",
    "x = customers_col.insert_one(customer)\n",
    "\n",
    "print(x.inserted_id)"
   ]
  },
  {
   "cell_type": "markdown",
   "metadata": {},
   "source": [
    "#### 3c) Insert Multiple Documents\n",
    "\n",
    "**(4 points)**"
   ]
  },
  {
   "cell_type": "code",
   "execution_count": 11,
   "metadata": {},
   "outputs": [
    {
     "name": "stdout",
     "output_type": "stream",
     "text": [
      "[ObjectId('5d38028ea7fba3b9bdedef59'), ObjectId('5d38028ea7fba3b9bdedef5a'), ObjectId('5d38028ea7fba3b9bdedef5b'), ObjectId('5d38028ea7fba3b9bdedef5c'), ObjectId('5d38028ea7fba3b9bdedef5d'), ObjectId('5d38028ea7fba3b9bdedef5e'), ObjectId('5d38028ea7fba3b9bdedef5f'), ObjectId('5d38028ea7fba3b9bdedef60'), ObjectId('5d38028ea7fba3b9bdedef61')]\n"
     ]
    }
   ],
   "source": [
    "# again note that the extra comma at the end of the list is not a syntax error\n",
    "\n",
    "customer_list = [\n",
    "  { \"first_name\": \"Leni\", \"last_name\": \"Robredo\", \"city\": \"Manila\", \"points\":1000 },\n",
    "  { \"first_name\": \"Tito\", \"last_name\": \"Sotto\", \"city\": \"Pasig\", \"points\":2000 },\n",
    "  { \"first_name\": \"Sonny\", \"last_name\": \"Angara\", \"city\": \"Manila\", \"points\":5000 },\n",
    "  { \"first_name\": \"Cynthia\", \"last_name\": \"Villar\", \"city\": \"Paranaque\", \"points\":500 },\n",
    "  { \"first_name\": \"Gloria\", \"last_name\": \"Arroyo\", \"city\": \"Quezon City\", \"points\":700 },\n",
    "  { \"first_name\": \"Manny\", \"last_name\": \"Pacquiao\", \"city\": \"Makati\", \"points\":950 },\n",
    "  { \"first_name\": \"Bam\", \"last_name\": \"Aquino\", \"city\": \"Quezon City\", \"points\":1120 },\n",
    "  { \"first_name\": \"Bato\", \"last_name\": \"Dela Rosa\", \"city\": \"Taguig\", \"points\":2500 },\n",
    "  { \"first_name\": \"Koko\", \"last_name\": \"Pimentel\", \"city\": \"Muntinlupa\", \"points\":3250 },\n",
    "]\n",
    "\n",
    "x = customers_col.insert_many(customer_list)\n",
    "\n",
    "#print list of the _id values of the inserted documents:\n",
    "print(x.inserted_ids)"
   ]
  },
  {
   "cell_type": "markdown",
   "metadata": {},
   "source": [
    "Let's check if the documents have been created. Run the next cell. We will revisit the `find()` method later."
   ]
  },
  {
   "cell_type": "code",
   "execution_count": 12,
   "metadata": {},
   "outputs": [
    {
     "data": {
      "text/plain": [
       "[{'_id': ObjectId('5d38028ea7fba3b9bdedef59'),\n",
       "  'first_name': 'Leni',\n",
       "  'last_name': 'Robredo',\n",
       "  'city': 'Manila',\n",
       "  'points': 1000},\n",
       " {'_id': ObjectId('5d38028ea7fba3b9bdedef5a'),\n",
       "  'first_name': 'Tito',\n",
       "  'last_name': 'Sotto',\n",
       "  'city': 'Pasig',\n",
       "  'points': 2000},\n",
       " {'_id': ObjectId('5d38028ea7fba3b9bdedef5b'),\n",
       "  'first_name': 'Sonny',\n",
       "  'last_name': 'Angara',\n",
       "  'city': 'Manila',\n",
       "  'points': 5000},\n",
       " {'_id': ObjectId('5d38028ea7fba3b9bdedef5c'),\n",
       "  'first_name': 'Cynthia',\n",
       "  'last_name': 'Villar',\n",
       "  'city': 'Paranaque',\n",
       "  'points': 500},\n",
       " {'_id': ObjectId('5d38028ea7fba3b9bdedef5d'),\n",
       "  'first_name': 'Gloria',\n",
       "  'last_name': 'Arroyo',\n",
       "  'city': 'Quezon City',\n",
       "  'points': 700},\n",
       " {'_id': ObjectId('5d38028ea7fba3b9bdedef5e'),\n",
       "  'first_name': 'Manny',\n",
       "  'last_name': 'Pacquiao',\n",
       "  'city': 'Makati',\n",
       "  'points': 950},\n",
       " {'_id': ObjectId('5d38028ea7fba3b9bdedef5f'),\n",
       "  'first_name': 'Bam',\n",
       "  'last_name': 'Aquino',\n",
       "  'city': 'Quezon City',\n",
       "  'points': 1120},\n",
       " {'_id': ObjectId('5d38028ea7fba3b9bdedef60'),\n",
       "  'first_name': 'Bato',\n",
       "  'last_name': 'Dela Rosa',\n",
       "  'city': 'Taguig',\n",
       "  'points': 2500},\n",
       " {'_id': ObjectId('5d38028ea7fba3b9bdedef61'),\n",
       "  'first_name': 'Koko',\n",
       "  'last_name': 'Pimentel',\n",
       "  'city': 'Muntinlupa',\n",
       "  'points': 3250}]"
      ]
     },
     "execution_count": 12,
     "metadata": {},
     "output_type": "execute_result"
    }
   ],
   "source": [
    "[c for c in customers_col.find()]"
   ]
  },
  {
   "cell_type": "markdown",
   "metadata": {},
   "source": [
    "#### 3d) Insert Multiple Documents with Specific IDs"
   ]
  },
  {
   "cell_type": "markdown",
   "metadata": {},
   "source": [
    "If you do not want MongoDB to assign unique ids for you document, you can specify the `_id` field when you insert the document(s).\n",
    "\n",
    "Remember that the values has to be unique. Two documents cannot have the same `_id`.\n",
    "\n",
    "Run the next cell.\n",
    "\n",
    "**(4 points)**"
   ]
  },
  {
   "cell_type": "code",
   "execution_count": null,
   "metadata": {},
   "outputs": [],
   "source": []
  },
  {
   "cell_type": "code",
   "execution_count": 13,
   "metadata": {},
   "outputs": [
    {
     "name": "stdout",
     "output_type": "stream",
     "text": [
      "[1, 2, 3, 4, 5, 6, 7, 8, 9, 10]\n"
     ]
    }
   ],
   "source": [
    "# Let's delete the inserted rows first\n",
    "# we will revisit this command later, so don't worry if it doesn't make sense yet\n",
    "customers_col.delete_many({})\n",
    "\n",
    "# Insert new rows with custom _ids\n",
    "\n",
    "customer_list = [\n",
    "  { \"_id\":1, \"first_name\": \"Rodrigo\", \"last_name\": \"Duterte\", \"city\": \"Manila\", \"points\":1000 },\n",
    "  { \"_id\":2, \"first_name\": \"Leni\", \"last_name\": \"Robredo\", \"city\": \"Manila\", \"points\":1000 },\n",
    "  { \"_id\":3, \"first_name\": \"Tito\", \"last_name\": \"Sotto\", \"city\": \"Pasig\", \"points\":2000 },\n",
    "  { \"_id\":4, \"first_name\": \"Sonny\", \"last_name\": \"Angara\", \"city\": \"Manila\", \"points\":5000 },\n",
    "  { \"_id\":5, \"first_name\": \"Cynthia\", \"last_name\": \"Villar\", \"city\": \"Paranaque\", \"points\":500 },\n",
    "  { \"_id\":6, \"first_name\": \"Gloria\", \"last_name\": \"Arroyo\", \"city\": \"Quezon City\", \"points\":700 },\n",
    "  { \"_id\":7, \"first_name\": \"Manny\", \"last_name\": \"Pacquiao\", \"city\": \"Makati\", \"points\":950 },\n",
    "  { \"_id\":8, \"first_name\": \"Bam\", \"last_name\": \"Aquino\", \"city\": \"Quezon City\", \"points\":1120 },\n",
    "  { \"_id\":9, \"first_name\": \"Bato\", \"last_name\": \"Dela Rosa\", \"city\": \"Taguig\", \"points\":2500 },\n",
    "  { \"_id\":10, \"first_name\": \"Koko\", \"last_name\": \"Pimentel\", \"city\": \"Muntinlupa\", \"points\":3250 },\n",
    "]\n",
    "\n",
    "x = customers_col.insert_many(customer_list)\n",
    "\n",
    "#print list of the _id values of the inserted documents:\n",
    "print(x.inserted_ids)"
   ]
  },
  {
   "cell_type": "markdown",
   "metadata": {},
   "source": [
    "#### 3e) Your turn: Insert product documents\n",
    "\n",
    "Using the techniques above, insert a list of products with the given dictionary format into the `products` collection. But first you need to create a `products` collection in the **products** database. Print out the `_id`s just like above.\n",
    "\n",
    "**(5 points)**"
   ]
  },
  {
   "cell_type": "code",
   "execution_count": 16,
   "metadata": {},
   "outputs": [
    {
     "name": "stdout",
     "output_type": "stream",
     "text": [
      "[1, 2, 3, 4, 5, 6]\n"
     ]
    }
   ],
   "source": [
    "product_list = [\n",
    "    {\"_id\":1, \"code\":\"turmericbutter\",\"name\":\"Turmeric Butter Handcrafted Soap\",\"price\":200,\"avail_qty\":500},\n",
    "    {\"_id\":2, \"code\":\"aleppo\",\"name\":\"Aleppo Soap\",\"price\":300,\"avail_qty\":1000},\n",
    "    {\"_id\":3, \"code\":\"castillebar\",\"name\":\"Castille Soap Bar\",\"price\":130,\"avail_qty\":2000},\n",
    "    {\"_id\":4, \"code\":\"beer\",\"name\":\"Beer Handcrafted Soap\",\"price\":200,\"avail_qty\":50},\n",
    "    {\"_id\":5, \"code\":\"aloemoringa\",\"name\":\"Aloe Moringa Handcrafted Soap\",\"price\":200,\"avail_qty\":300},\n",
    "    {\"_id\":6, \"code\":\"milkoatshoney\",\"name\":\"Milk, Oats and Honey Handcrafted Soap\",\"price\":150,\"avail_qty\":250},\n",
    "]\n",
    "\n",
    "# write your code below\n",
    "# ---------------------\n",
    "\n",
    "# create products collection (assign to the variable products_col:\n",
    "products_col = products_db[\"products\"]\n",
    "\n",
    "# insert list above into the collection\n",
    "x = products_col.insert_many(product_list)\n",
    "\n",
    "\n",
    "# print out inserted ids\n",
    "print(x.inserted_ids)\n",
    "\n",
    "# ---------------------\n"
   ]
  },
  {
   "cell_type": "code",
   "execution_count": 17,
   "metadata": {},
   "outputs": [],
   "source": [
    "# if you make a mistake and you need to insert again, feel free to delete the documents first before retrying.\n",
    "# use the command below.\n",
    "# products_col.delete_many({})"
   ]
  },
  {
   "cell_type": "code",
   "execution_count": null,
   "metadata": {},
   "outputs": [],
   "source": []
  },
  {
   "cell_type": "code",
   "execution_count": 18,
   "metadata": {},
   "outputs": [
    {
     "ename": "NameError",
     "evalue": "name 'employees_col' is not defined",
     "output_type": "error",
     "traceback": [
      "\u001b[0;31m---------------------------------------------------------------------------\u001b[0m",
      "\u001b[0;31mNameError\u001b[0m                                 Traceback (most recent call last)",
      "\u001b[0;32m<ipython-input-18-8b2f5031cdf3>\u001b[0m in \u001b[0;36m<module>\u001b[0;34m\u001b[0m\n\u001b[0;32m----> 1\u001b[0;31m \u001b[0memployees_col\u001b[0m\u001b[0;34m.\u001b[0m\u001b[0mdelete_many\u001b[0m\u001b[0;34m(\u001b[0m\u001b[0;34m{\u001b[0m\u001b[0;34m}\u001b[0m\u001b[0;34m)\u001b[0m\u001b[0;34m\u001b[0m\u001b[0;34m\u001b[0m\u001b[0m\n\u001b[0m",
      "\u001b[0;31mNameError\u001b[0m: name 'employees_col' is not defined"
     ]
    }
   ],
   "source": [
    "employees_col.delete_many({})"
   ]
  },
  {
   "cell_type": "markdown",
   "metadata": {},
   "source": [
    "#### 3f)  Insert employees documents\n",
    "\n",
    "Using the techniques above, insert a list of employees with the given dictionary format into the `employees` collection. But first you need to create a `employees` collection in the **hr** database. Print out the `_id`s just like above.\n",
    "\n",
    "**(5 points)**"
   ]
  },
  {
   "cell_type": "code",
   "execution_count": 19,
   "metadata": {},
   "outputs": [
    {
     "name": "stdout",
     "output_type": "stream",
     "text": [
      "[1, 2, 3, 4, 5, 6]\n"
     ]
    }
   ],
   "source": [
    "employees_list = [\n",
    "    {\"_id\":1, \"first_name\":\"Bong\",\"last_name\":\"Olpoc\",\"base_pay\":2000},\n",
    "    {\"_id\":2, \"first_name\":\"Chums\",\"last_name\":\"Uy\",\"base_pay\":1500},\n",
    "    {\"_id\":3, \"first_name\":\"Joaqs\",\"last_name\":\"Gonzales\",\"base_pay\":1000},\n",
    "    {\"_id\":4, \"first_name\":\"Joben\",\"last_name\":\"Ilagan\",\"base_pay\":1000},\n",
    "    {\"_id\":5, \"first_name\":\"Sean\",\"last_name\":\"Uy\",\"base_pay\":2000},\n",
    "    {\"_id\":6, \"first_name\":\"Stephen\",\"last_name\":\"Chan\",\"base_pay\":1500},\n",
    "]\n",
    "\n",
    "\n",
    "# write your code below\n",
    "# ---------------------\n",
    "\n",
    "# create employees collection (assign to the variable employees_col:\n",
    "employees_col = hr_db[\"employees\"]\n",
    "\n",
    "# insert list above into the collection\n",
    "x = employees_col.insert_many(employees_list)\n",
    "\n",
    "\n",
    "# print out inserted ids\n",
    "print(x.inserted_ids)\n",
    "\n",
    "# ---------------------\n"
   ]
  },
  {
   "cell_type": "markdown",
   "metadata": {},
   "source": [
    "### 4) Finding documents\n",
    "\n",
    "In MongoDB we use the find and findOne methods to find data in a collection.\n",
    "\n",
    "Just like the `SELECT` statement is used to find data in a table in a MySQL database."
   ]
  },
  {
   "cell_type": "markdown",
   "metadata": {},
   "source": [
    "You've already seen `.find()` at work in 3c) above.\n",
    "\n",
    "Run the cell below to find the first document in the **customers** collection. (Not graded as it is too simple.)\n"
   ]
  },
  {
   "cell_type": "code",
   "execution_count": 20,
   "metadata": {},
   "outputs": [
    {
     "name": "stdout",
     "output_type": "stream",
     "text": [
      "{'_id': 1, 'first_name': 'Rodrigo', 'last_name': 'Duterte', 'city': 'Manila', 'points': 1000}\n"
     ]
    }
   ],
   "source": [
    "x = customers_col.find_one()\n",
    "\n",
    "print(x)"
   ]
  },
  {
   "cell_type": "markdown",
   "metadata": {},
   "source": [
    "To select data from a table in MongoDB, we can also use the find() method.\n",
    "\n",
    "The `find()` method returns all occurrences in the selection.\n",
    "\n",
    "The first parameter of the `find()` method is a query object. In this example we use an empty query object, which selects all documents in the collection.\n",
    "\n",
    "Run the cell below. Not graded as it is too simple, but do it anyway as it will help you answer the succeeding questions."
   ]
  },
  {
   "cell_type": "code",
   "execution_count": 21,
   "metadata": {},
   "outputs": [
    {
     "name": "stdout",
     "output_type": "stream",
     "text": [
      "{'_id': 1, 'first_name': 'Rodrigo', 'last_name': 'Duterte', 'city': 'Manila', 'points': 1000}\n",
      "{'_id': 2, 'first_name': 'Leni', 'last_name': 'Robredo', 'city': 'Manila', 'points': 1000}\n",
      "{'_id': 3, 'first_name': 'Tito', 'last_name': 'Sotto', 'city': 'Pasig', 'points': 2000}\n",
      "{'_id': 4, 'first_name': 'Sonny', 'last_name': 'Angara', 'city': 'Manila', 'points': 5000}\n",
      "{'_id': 5, 'first_name': 'Cynthia', 'last_name': 'Villar', 'city': 'Paranaque', 'points': 500}\n",
      "{'_id': 6, 'first_name': 'Gloria', 'last_name': 'Arroyo', 'city': 'Quezon City', 'points': 700}\n",
      "{'_id': 7, 'first_name': 'Manny', 'last_name': 'Pacquiao', 'city': 'Makati', 'points': 950}\n",
      "{'_id': 8, 'first_name': 'Bam', 'last_name': 'Aquino', 'city': 'Quezon City', 'points': 1120}\n",
      "{'_id': 9, 'first_name': 'Bato', 'last_name': 'Dela Rosa', 'city': 'Taguig', 'points': 2500}\n",
      "{'_id': 10, 'first_name': 'Koko', 'last_name': 'Pimentel', 'city': 'Muntinlupa', 'points': 3250}\n"
     ]
    }
   ],
   "source": [
    "for x in customers_col.find():\n",
    "  print(x)"
   ]
  },
  {
   "cell_type": "markdown",
   "metadata": {},
   "source": [
    "The second parameter of the find() method is an object describing which fields to include in the result.\n",
    "\n",
    "This parameter is optional. If you choose to omit, all fields will be included."
   ]
  },
  {
   "cell_type": "code",
   "execution_count": 22,
   "metadata": {},
   "outputs": [
    {
     "name": "stdout",
     "output_type": "stream",
     "text": [
      "{'_id': 1, 'last_name': 'Duterte'}\n",
      "{'_id': 2, 'last_name': 'Robredo'}\n",
      "{'_id': 3, 'last_name': 'Sotto'}\n",
      "{'_id': 4, 'last_name': 'Angara'}\n",
      "{'_id': 5, 'last_name': 'Villar'}\n",
      "{'_id': 6, 'last_name': 'Arroyo'}\n",
      "{'_id': 7, 'last_name': 'Pacquiao'}\n",
      "{'_id': 8, 'last_name': 'Aquino'}\n",
      "{'_id': 9, 'last_name': 'Dela Rosa'}\n",
      "{'_id': 10, 'last_name': 'Pimentel'}\n"
     ]
    }
   ],
   "source": [
    "# this one uses a list\n",
    "for x in customers_col.find({},[\"_idfirst_name\",\"last_name\"]):\n",
    "  print(x)"
   ]
  },
  {
   "cell_type": "code",
   "execution_count": 23,
   "metadata": {},
   "outputs": [
    {
     "name": "stdout",
     "output_type": "stream",
     "text": [
      "{'first_name': 'Rodrigo', 'last_name': 'Duterte'}\n",
      "{'first_name': 'Leni', 'last_name': 'Robredo'}\n",
      "{'first_name': 'Tito', 'last_name': 'Sotto'}\n",
      "{'first_name': 'Sonny', 'last_name': 'Angara'}\n",
      "{'first_name': 'Cynthia', 'last_name': 'Villar'}\n",
      "{'first_name': 'Gloria', 'last_name': 'Arroyo'}\n",
      "{'first_name': 'Manny', 'last_name': 'Pacquiao'}\n",
      "{'first_name': 'Bam', 'last_name': 'Aquino'}\n",
      "{'first_name': 'Bato', 'last_name': 'Dela Rosa'}\n",
      "{'first_name': 'Koko', 'last_name': 'Pimentel'}\n"
     ]
    }
   ],
   "source": [
    "# this one uses a dictionary (0 denotes off, 1 denotes on)\n",
    "for x in customers_col.find({},{\"_id\":0, \"first_name\":1,\"last_name\":1}):\n",
    "  print(x)"
   ]
  },
  {
   "cell_type": "code",
   "execution_count": 24,
   "metadata": {},
   "outputs": [
    {
     "name": "stdout",
     "output_type": "stream",
     "text": [
      "{'_id': 1, 'first_name': 'Rodrigo', 'last_name': 'Duterte', 'points': 1000}\n",
      "{'_id': 2, 'first_name': 'Leni', 'last_name': 'Robredo', 'points': 1000}\n",
      "{'_id': 3, 'first_name': 'Tito', 'last_name': 'Sotto', 'points': 2000}\n",
      "{'_id': 4, 'first_name': 'Sonny', 'last_name': 'Angara', 'points': 5000}\n",
      "{'_id': 5, 'first_name': 'Cynthia', 'last_name': 'Villar', 'points': 500}\n",
      "{'_id': 6, 'first_name': 'Gloria', 'last_name': 'Arroyo', 'points': 700}\n",
      "{'_id': 7, 'first_name': 'Manny', 'last_name': 'Pacquiao', 'points': 950}\n",
      "{'_id': 8, 'first_name': 'Bam', 'last_name': 'Aquino', 'points': 1120}\n",
      "{'_id': 9, 'first_name': 'Bato', 'last_name': 'Dela Rosa', 'points': 2500}\n",
      "{'_id': 10, 'first_name': 'Koko', 'last_name': 'Pimentel', 'points': 3250}\n"
     ]
    }
   ],
   "source": [
    "# this one will exclude city from the result\n",
    "for x in customers_col.find({},{\"city\":0}):\n",
    "  print(x)"
   ]
  },
  {
   "cell_type": "markdown",
   "metadata": {},
   "source": [
    "The query below will show all documents where **city** is Pasig."
   ]
  },
  {
   "cell_type": "code",
   "execution_count": 25,
   "metadata": {},
   "outputs": [
    {
     "name": "stdout",
     "output_type": "stream",
     "text": [
      "{'_id': 3, 'first_name': 'Tito', 'last_name': 'Sotto', 'city': 'Pasig', 'points': 2000}\n"
     ]
    }
   ],
   "source": [
    "# this one will exclude city from the result\n",
    "myquery = { \"city\": \"Pasig\" }\n",
    "mydoc = customers_col.find(myquery)\n",
    "for x in mydoc:\n",
    "  print(x)"
   ]
  },
  {
   "cell_type": "markdown",
   "metadata": {},
   "source": [
    "**Advanced Queries:**\n",
    "\n",
    "`$eq`\tMatches values that are equal to a specified value.  \n",
    "`$gt`\tMatches values that are greater than a specified value.  \n",
    "`$gte`\tMatches values that are greater than or equal to a specified value.  \n",
    "`$in`\tMatches any of the values specified in an array.  \n",
    "`$lt`\tMatches values that are less than a specified value.  \n",
    "`$lte`\tMatches values that are less than or equal to a specified value.  \n",
    "`$ne`\tMatches all values that are not equal to a specified value.  \n",
    "`$nin`\tMatches none of the values specified in an array.  "
   ]
  },
  {
   "cell_type": "code",
   "execution_count": 26,
   "metadata": {},
   "outputs": [
    {
     "name": "stdout",
     "output_type": "stream",
     "text": [
      "{'_id': 3, 'first_name': 'Tito', 'last_name': 'Sotto', 'city': 'Pasig', 'points': 2000}\n"
     ]
    }
   ],
   "source": [
    "# this query is equivalent to the previous one\n",
    "myquery = { \"city\": {\"$eq\":\"Pasig\"} }\n",
    "mydoc = customers_col.find(myquery)\n",
    "for x in mydoc:\n",
    "  print(x)"
   ]
  },
  {
   "cell_type": "markdown",
   "metadata": {},
   "source": [
    "Find all customers whose points are greater than 1500."
   ]
  },
  {
   "cell_type": "code",
   "execution_count": 27,
   "metadata": {},
   "outputs": [
    {
     "name": "stdout",
     "output_type": "stream",
     "text": [
      "{'_id': 3, 'first_name': 'Tito', 'last_name': 'Sotto', 'city': 'Pasig', 'points': 2000}\n",
      "{'_id': 4, 'first_name': 'Sonny', 'last_name': 'Angara', 'city': 'Manila', 'points': 5000}\n",
      "{'_id': 9, 'first_name': 'Bato', 'last_name': 'Dela Rosa', 'city': 'Taguig', 'points': 2500}\n",
      "{'_id': 10, 'first_name': 'Koko', 'last_name': 'Pimentel', 'city': 'Muntinlupa', 'points': 3250}\n"
     ]
    }
   ],
   "source": [
    "\n",
    "myquery = {\"points\": {\"$gt\":1500}}\n",
    "\n",
    "mydoc = customers_col.find(myquery)\n",
    "\n",
    "for x in mydoc:\n",
    "  print(x)"
   ]
  },
  {
   "cell_type": "markdown",
   "metadata": {},
   "source": [
    "Regular expressions may also be used to find strings.\n",
    "\n",
    "Find all customers where city starts with \"Pa\"."
   ]
  },
  {
   "cell_type": "code",
   "execution_count": 28,
   "metadata": {},
   "outputs": [
    {
     "name": "stdout",
     "output_type": "stream",
     "text": [
      "{'_id': 3, 'first_name': 'Tito', 'last_name': 'Sotto', 'city': 'Pasig', 'points': 2000}\n",
      "{'_id': 5, 'first_name': 'Cynthia', 'last_name': 'Villar', 'city': 'Paranaque', 'points': 500}\n"
     ]
    }
   ],
   "source": [
    "myquery = { \"city\": { \"$regex\": \"^Pa\" } }\n",
    "\n",
    "mydoc = customers_col.find(myquery)\n",
    "\n",
    "for x in mydoc:\n",
    "  print(x)"
   ]
  },
  {
   "cell_type": "markdown",
   "metadata": {},
   "source": [
    "#### 4a) Your turn: Find all products\n",
    "\n",
    "You'll find remnants from my solution key in the output of the cell below. Use the output for guidance.\n",
    "\n",
    "**(5 points)**"
   ]
  },
  {
   "cell_type": "code",
   "execution_count": 29,
   "metadata": {},
   "outputs": [
    {
     "name": "stdout",
     "output_type": "stream",
     "text": [
      "{'_id': 1, 'code': 'turmericbutter', 'name': 'Turmeric Butter Handcrafted Soap', 'price': 200, 'avail_qty': 500}\n",
      "{'_id': 2, 'code': 'aleppo', 'name': 'Aleppo Soap', 'price': 300, 'avail_qty': 1000}\n",
      "{'_id': 3, 'code': 'castillebar', 'name': 'Castille Soap Bar', 'price': 130, 'avail_qty': 2000}\n",
      "{'_id': 4, 'code': 'beer', 'name': 'Beer Handcrafted Soap', 'price': 200, 'avail_qty': 50}\n",
      "{'_id': 5, 'code': 'aloemoringa', 'name': 'Aloe Moringa Handcrafted Soap', 'price': 200, 'avail_qty': 300}\n",
      "{'_id': 6, 'code': 'milkoatshoney', 'name': 'Milk, Oats and Honey Handcrafted Soap', 'price': 150, 'avail_qty': 250}\n"
     ]
    }
   ],
   "source": [
    "## write code below\n",
    "\n",
    "for x in products_col.find():\n",
    "    print(x)\n",
    "\n",
    "\n"
   ]
  },
  {
   "cell_type": "markdown",
   "metadata": {},
   "source": [
    "#### 4b) Print **only** the names and prices of products below 300 in price.\n",
    "\n",
    "**(5 points)**"
   ]
  },
  {
   "cell_type": "code",
   "execution_count": 30,
   "metadata": {},
   "outputs": [
    {
     "name": "stdout",
     "output_type": "stream",
     "text": [
      "{'_id': 1, 'code': 'turmericbutter', 'name': 'Turmeric Butter Handcrafted Soap', 'price': 200, 'avail_qty': 500}\n",
      "{'_id': 3, 'code': 'castillebar', 'name': 'Castille Soap Bar', 'price': 130, 'avail_qty': 2000}\n",
      "{'_id': 4, 'code': 'beer', 'name': 'Beer Handcrafted Soap', 'price': 200, 'avail_qty': 50}\n",
      "{'_id': 5, 'code': 'aloemoringa', 'name': 'Aloe Moringa Handcrafted Soap', 'price': 200, 'avail_qty': 300}\n",
      "{'_id': 6, 'code': 'milkoatshoney', 'name': 'Milk, Oats and Honey Handcrafted Soap', 'price': 150, 'avail_qty': 250}\n"
     ]
    }
   ],
   "source": [
    "myquery = {\"price\": {\"$lt\":300}}\n",
    "\n",
    "mydoc = products_col.find(myquery)\n",
    "\n",
    "for x in mydoc:\n",
    "  print(x)"
   ]
  },
  {
   "cell_type": "markdown",
   "metadata": {},
   "source": [
    "#### 4c) Display product names and quantity levels where quantity is less than or equal to the critical level of 50\n",
    "\n",
    "**(5 points)**"
   ]
  },
  {
   "cell_type": "code",
   "execution_count": 31,
   "metadata": {},
   "outputs": [
    {
     "name": "stdout",
     "output_type": "stream",
     "text": [
      "{'_id': 4, 'code': 'beer', 'name': 'Beer Handcrafted Soap', 'price': 200, 'avail_qty': 50}\n"
     ]
    }
   ],
   "source": [
    "myquery = {\"avail_qty\": {\"$lte\":50}}\n",
    "\n",
    "mydoc = products_col.find(myquery)\n",
    "\n",
    "for x in mydoc:\n",
    "  print(x)"
   ]
  },
  {
   "cell_type": "markdown",
   "metadata": {},
   "source": [
    "#### 4d) Use regex to find all products with \"Handcrafted\" in the name\n",
    "\n",
    "**(5 points)**"
   ]
  },
  {
   "cell_type": "code",
   "execution_count": 32,
   "metadata": {},
   "outputs": [
    {
     "name": "stdout",
     "output_type": "stream",
     "text": [
      "{'_id': 1, 'code': 'turmericbutter', 'name': 'Turmeric Butter Handcrafted Soap', 'price': 200, 'avail_qty': 500}\n",
      "{'_id': 4, 'code': 'beer', 'name': 'Beer Handcrafted Soap', 'price': 200, 'avail_qty': 50}\n",
      "{'_id': 5, 'code': 'aloemoringa', 'name': 'Aloe Moringa Handcrafted Soap', 'price': 200, 'avail_qty': 300}\n",
      "{'_id': 6, 'code': 'milkoatshoney', 'name': 'Milk, Oats and Honey Handcrafted Soap', 'price': 150, 'avail_qty': 250}\n"
     ]
    }
   ],
   "source": [
    "myquery = {\"name\": {\"$regex\":\"Handcrafted\"}}\n",
    "\n",
    "mydoc = products_col.find(myquery)\n",
    "\n",
    "for x in mydoc:\n",
    "  print(x)"
   ]
  },
  {
   "cell_type": "markdown",
   "metadata": {},
   "source": [
    "### 5) Updating Collections\n",
    "\n",
    "You can update a record, or document as it is called in MongoDB, by using the `update_one()` method.\n",
    "\n",
    "The first parameter of the `update_one()` method is a query object defining which document to update."
   ]
  },
  {
   "cell_type": "markdown",
   "metadata": {},
   "source": [
    "First, let's inspect the city where Rodrigo Duterte belongs:"
   ]
  },
  {
   "cell_type": "code",
   "execution_count": 33,
   "metadata": {},
   "outputs": [
    {
     "name": "stdout",
     "output_type": "stream",
     "text": [
      "{'_id': 1, 'first_name': 'Rodrigo', 'last_name': 'Duterte', 'city': 'Manila', 'points': 1000}\n"
     ]
    }
   ],
   "source": [
    "x = customers_col.find_one({\"last_name\":\"Duterte\"})\n",
    "print(x)"
   ]
  },
  {
   "cell_type": "markdown",
   "metadata": {},
   "source": [
    "Change Duterte's city from \"Manila\" to \"Davao City\". Note the changes after the update.\n",
    "\n",
    "Run the cell below. No points as this is too simple, but do anyway as it will help in the succeeding questions.\n"
   ]
  },
  {
   "cell_type": "code",
   "execution_count": 34,
   "metadata": {},
   "outputs": [
    {
     "name": "stdout",
     "output_type": "stream",
     "text": [
      "{'_id': 1, 'first_name': 'Rodrigo', 'last_name': 'Duterte', 'city': 'Davao City', 'points': 1000}\n",
      "{'_id': 2, 'first_name': 'Leni', 'last_name': 'Robredo', 'city': 'Manila', 'points': 1000}\n",
      "{'_id': 3, 'first_name': 'Tito', 'last_name': 'Sotto', 'city': 'Pasig', 'points': 2000}\n",
      "{'_id': 4, 'first_name': 'Sonny', 'last_name': 'Angara', 'city': 'Manila', 'points': 5000}\n",
      "{'_id': 5, 'first_name': 'Cynthia', 'last_name': 'Villar', 'city': 'Paranaque', 'points': 500}\n",
      "{'_id': 6, 'first_name': 'Gloria', 'last_name': 'Arroyo', 'city': 'Quezon City', 'points': 700}\n",
      "{'_id': 7, 'first_name': 'Manny', 'last_name': 'Pacquiao', 'city': 'Makati', 'points': 950}\n",
      "{'_id': 8, 'first_name': 'Bam', 'last_name': 'Aquino', 'city': 'Quezon City', 'points': 1120}\n",
      "{'_id': 9, 'first_name': 'Bato', 'last_name': 'Dela Rosa', 'city': 'Taguig', 'points': 2500}\n",
      "{'_id': 10, 'first_name': 'Koko', 'last_name': 'Pimentel', 'city': 'Muntinlupa', 'points': 3250}\n"
     ]
    }
   ],
   "source": [
    "myquery = { \"last_name\": \"Duterte\" }\n",
    "newvalues = { \"$set\": { \"city\": \"Davao City\" } }\n",
    "customers_col.update_one(myquery,newvalues)\n",
    "\n",
    "# print customers after the update\n",
    "for x in customers_col.find():\n",
    "  print(x)"
   ]
  },
  {
   "cell_type": "markdown",
   "metadata": {},
   "source": [
    "To update all documents that meets the criteria of the query, use the `update_many()` method."
   ]
  },
  {
   "cell_type": "markdown",
   "metadata": {},
   "source": [
    "Assign 10000 points to Robredo."
   ]
  },
  {
   "cell_type": "code",
   "execution_count": 35,
   "metadata": {},
   "outputs": [
    {
     "name": "stdout",
     "output_type": "stream",
     "text": [
      "{'_id': 1, 'first_name': 'Rodrigo', 'last_name': 'Duterte', 'city': 'Davao City', 'points': 1000}\n",
      "{'_id': 2, 'first_name': 'Leni', 'last_name': 'Robredo', 'city': 'Manila', 'points': 10000}\n",
      "{'_id': 3, 'first_name': 'Tito', 'last_name': 'Sotto', 'city': 'Pasig', 'points': 2000}\n",
      "{'_id': 4, 'first_name': 'Sonny', 'last_name': 'Angara', 'city': 'Manila', 'points': 5000}\n",
      "{'_id': 5, 'first_name': 'Cynthia', 'last_name': 'Villar', 'city': 'Paranaque', 'points': 500}\n",
      "{'_id': 6, 'first_name': 'Gloria', 'last_name': 'Arroyo', 'city': 'Quezon City', 'points': 700}\n",
      "{'_id': 7, 'first_name': 'Manny', 'last_name': 'Pacquiao', 'city': 'Makati', 'points': 950}\n",
      "{'_id': 8, 'first_name': 'Bam', 'last_name': 'Aquino', 'city': 'Quezon City', 'points': 1120}\n",
      "{'_id': 9, 'first_name': 'Bato', 'last_name': 'Dela Rosa', 'city': 'Taguig', 'points': 2500}\n",
      "{'_id': 10, 'first_name': 'Koko', 'last_name': 'Pimentel', 'city': 'Muntinlupa', 'points': 3250}\n"
     ]
    }
   ],
   "source": [
    "myquery = {\"last_name\":{\"$eq\":\"Robredo\"}}\n",
    "new_values = {\"$set\": {\"points\":10000}}\n",
    "customers_col.update_many(myquery,new_values)\n",
    "for x in customers_col.find({}):\n",
    "    print(x)"
   ]
  },
  {
   "cell_type": "markdown",
   "metadata": {},
   "source": [
    "`$currentDate`\tSets the value of a field to current date, either as a Date or a Timestamp.  \n",
    "`$inc`\tIncrements the value of the field by the specified amount.  \n",
    "`$min`\tOnly updates the field if the specified value is less than the existing field value.  \n",
    "`$max`\tOnly updates the field if the specified value is greater than the existing field value.  \n",
    "`$mul`\tMultiplies the value of the field by the specified amount.\n",
    "`$rename`\tRenames a field.  \n",
    "`$set`\tSets the value of a field in a document.  \n",
    "`$setOnInsert`\tSets the value of a field if an update results in an insert of a document. Has no effect on update operations that modify existing documents.  \n",
    "`$unset`\tRemoves the specified field from a document.  "
   ]
  },
  {
   "cell_type": "markdown",
   "metadata": {},
   "source": [
    "Double the points of **all** customers.\n",
    "\n",
    "No points, but do anyway."
   ]
  },
  {
   "cell_type": "code",
   "execution_count": 36,
   "metadata": {},
   "outputs": [
    {
     "name": "stdout",
     "output_type": "stream",
     "text": [
      "{'_id': 1, 'first_name': 'Rodrigo', 'last_name': 'Duterte', 'city': 'Davao City', 'points': 2000}\n",
      "{'_id': 2, 'first_name': 'Leni', 'last_name': 'Robredo', 'city': 'Manila', 'points': 20000}\n",
      "{'_id': 3, 'first_name': 'Tito', 'last_name': 'Sotto', 'city': 'Pasig', 'points': 4000}\n",
      "{'_id': 4, 'first_name': 'Sonny', 'last_name': 'Angara', 'city': 'Manila', 'points': 10000}\n",
      "{'_id': 5, 'first_name': 'Cynthia', 'last_name': 'Villar', 'city': 'Paranaque', 'points': 1000}\n",
      "{'_id': 6, 'first_name': 'Gloria', 'last_name': 'Arroyo', 'city': 'Quezon City', 'points': 1400}\n",
      "{'_id': 7, 'first_name': 'Manny', 'last_name': 'Pacquiao', 'city': 'Makati', 'points': 1900}\n",
      "{'_id': 8, 'first_name': 'Bam', 'last_name': 'Aquino', 'city': 'Quezon City', 'points': 2240}\n",
      "{'_id': 9, 'first_name': 'Bato', 'last_name': 'Dela Rosa', 'city': 'Taguig', 'points': 5000}\n",
      "{'_id': 10, 'first_name': 'Koko', 'last_name': 'Pimentel', 'city': 'Muntinlupa', 'points': 6500}\n"
     ]
    }
   ],
   "source": [
    "myquery = {}\n",
    "new_values = {\"$mul\": {\"points\": 2}}\n",
    "customers_col.update_many(myquery,new_values)\n",
    "for x in customers_col.find({}):\n",
    "    print(x)"
   ]
  },
  {
   "cell_type": "markdown",
   "metadata": {},
   "source": [
    "#### 5a) Your turn. Replenish the available quantity of Beer Soap. Add 100 bars.\n",
    "\n",
    "**(5 points)**\n",
    "\n"
   ]
  },
  {
   "cell_type": "code",
   "execution_count": 37,
   "metadata": {},
   "outputs": [
    {
     "name": "stdout",
     "output_type": "stream",
     "text": [
      "Current Quantity: 50\n",
      "New Quantity: 150\n",
      "{'_id': 1, 'code': 'turmericbutter', 'name': 'Turmeric Butter Handcrafted Soap', 'price': 200, 'avail_qty': 500}\n",
      "{'_id': 2, 'code': 'aleppo', 'name': 'Aleppo Soap', 'price': 300, 'avail_qty': 1000}\n",
      "{'_id': 3, 'code': 'castillebar', 'name': 'Castille Soap Bar', 'price': 130, 'avail_qty': 2000}\n",
      "{'_id': 4, 'code': 'beer', 'name': 'Beer Handcrafted Soap', 'price': 200, 'avail_qty': 150}\n",
      "{'_id': 5, 'code': 'aloemoringa', 'name': 'Aloe Moringa Handcrafted Soap', 'price': 200, 'avail_qty': 300}\n",
      "{'_id': 6, 'code': 'milkoatshoney', 'name': 'Milk, Oats and Honey Handcrafted Soap', 'price': 150, 'avail_qty': 250}\n"
     ]
    }
   ],
   "source": [
    "# first get the current quantity\n",
    "myquery = {\"code\":\"beer\"}\n",
    "x = products_col.find_one(myquery)\n",
    "qty = x[\"avail_qty\"]\n",
    "print(\"Current Quantity: {}\".format(qty))\n",
    "\n",
    "\n",
    "new_qty = qty + 100\n",
    "print(\"New Quantity: {}\".format(new_qty))\n",
    "## write code below\n",
    "\n",
    "new_value = {\"$set\":{\"avail_qty\":new_qty}}\n",
    "x = products_col.update_one(myquery,new_value)\n",
    "\n",
    "\n",
    "for x in products_col.find({}):\n",
    "    print(x)\n"
   ]
  },
  {
   "cell_type": "markdown",
   "metadata": {},
   "source": [
    "#### 5b) Increase base pay of all employes by 10% across the board.\n",
    "\n",
    "Note: just multiply the amount by 1.10.\n",
    "\n",
    "Use the output from the remnants of the solution key below for your guidance.\n",
    "\n",
    "**(5 points)**"
   ]
  },
  {
   "cell_type": "code",
   "execution_count": 38,
   "metadata": {},
   "outputs": [
    {
     "name": "stdout",
     "output_type": "stream",
     "text": [
      "{'_id': 1, 'first_name': 'Bong', 'last_name': 'Olpoc', 'base_pay': 2200.0}\n",
      "{'_id': 2, 'first_name': 'Chums', 'last_name': 'Uy', 'base_pay': 1650.0000000000002}\n",
      "{'_id': 3, 'first_name': 'Joaqs', 'last_name': 'Gonzales', 'base_pay': 1100.0}\n",
      "{'_id': 4, 'first_name': 'Joben', 'last_name': 'Ilagan', 'base_pay': 1100.0}\n",
      "{'_id': 5, 'first_name': 'Sean', 'last_name': 'Uy', 'base_pay': 2200.0}\n",
      "{'_id': 6, 'first_name': 'Stephen', 'last_name': 'Chan', 'base_pay': 1650.0000000000002}\n"
     ]
    }
   ],
   "source": [
    "### write code below\n",
    "\n",
    "myquery = {}\n",
    "new_values = {\"$mul\": {\"base_pay\": 1.10}}\n",
    "employees_col.update_many(myquery,new_values)\n",
    "for x in employees_col.find({}):\n",
    "    print(x)"
   ]
  },
  {
   "cell_type": "code",
   "execution_count": null,
   "metadata": {},
   "outputs": [],
   "source": []
  },
  {
   "cell_type": "code",
   "execution_count": null,
   "metadata": {},
   "outputs": [],
   "source": []
  }
 ],
 "metadata": {
  "kernelspec": {
   "display_name": "Python 3",
   "language": "python",
   "name": "python3"
  },
  "language_info": {
   "codemirror_mode": {
    "name": "ipython",
    "version": 3
   },
   "file_extension": ".py",
   "mimetype": "text/x-python",
   "name": "python",
   "nbconvert_exporter": "python",
   "pygments_lexer": "ipython3",
   "version": "3.7.3"
  }
 },
 "nbformat": 4,
 "nbformat_minor": 2
}
