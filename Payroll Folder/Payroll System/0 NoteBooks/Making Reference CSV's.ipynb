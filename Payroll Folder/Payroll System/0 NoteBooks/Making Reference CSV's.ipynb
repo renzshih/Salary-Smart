{
 "cells": [
  {
   "cell_type": "markdown",
   "metadata": {},
   "source": [
    "# Run this first"
   ]
  },
  {
   "cell_type": "code",
   "execution_count": 1,
   "metadata": {},
   "outputs": [],
   "source": [
    "#Reference for Output CSV\n",
    "with open(r'C:\\Users\\ASUS\\Desktop\\Payroll System\\5 Reference CSVs\\Output-Reference.csv',\"w\") as Output:\n",
    "    Output.write('ID Number'+\",\"+'TI min'+\",\"+'TO min'+\",\"+'Work Hours'+\",\"+'Basic Salary'+\",\"+'Overtime Hours'+\n",
    "                 \",\"+'Overtime Pay'+\",\"+'Late Minutes'+\",\"+'Late Hours'+\",\"+'Late Deductions'+\",\"+'Gross Salary'+\n",
    "                 \",\"+'Debt'+\",\"+'Deductibles'+\",\"+'Bonus'+\",\"+'Standing Salary'+\"\\n\")"
   ]
  },
  {
   "cell_type": "code",
   "execution_count": 2,
   "metadata": {},
   "outputs": [],
   "source": [
    "#Reference for One Week Statistic CSV\n",
    "with open(r'C:\\Users\\ASUS\\Desktop\\Payroll System\\5 Reference CSVs\\One Week Statistic Reference.csv',\"w\") as Output:\n",
    "    Output.write('ID Number'+\",\"+'Total Work Hours'+\",\"+'Total Basic Salary'+\",\"+'Total Overtime Hours'+\",\"+\n",
    "                 'Total Overtime Pay'+\",\"+'Total Late Hours'+\",\"+'Total Late Deduction'+\",\"+'Total Gross Salary'+\n",
    "                 \",\"+'Total Debt'+\",\"+'Total Deductibles'+\",\"+'Total Bonus'+\",\"+'Total Standing Salary'+\"\\n\")"
   ]
  },
  {
   "cell_type": "markdown",
   "metadata": {},
   "source": [
    "# Input Maker"
   ]
  },
  {
   "cell_type": "code",
   "execution_count": 5,
   "metadata": {},
   "outputs": [],
   "source": [
    "#Creates a writeable csv with name \"In-DayX.csv\"\n",
    "with open(r'C:\\Users\\ASUS\\Desktop\\Payroll System\\In-DayX.csv',\"w\") as Output:\n",
    "    Output.write('ID Number'+\",\"+'Time In'+\",\"+'Time Out'+\",\"+'Deductibles'+\n",
    "                 \",\"+'Bonus'+\"\\n\")"
   ]
  },
  {
   "cell_type": "code",
   "execution_count": null,
   "metadata": {},
   "outputs": [],
   "source": []
  }
 ],
 "metadata": {
  "kernelspec": {
   "display_name": "Python 3",
   "language": "python",
   "name": "python3"
  },
  "language_info": {
   "codemirror_mode": {
    "name": "ipython",
    "version": 3
   },
   "file_extension": ".py",
   "mimetype": "text/x-python",
   "name": "python",
   "nbconvert_exporter": "python",
   "pygments_lexer": "ipython3",
   "version": "3.7.3"
  }
 },
 "nbformat": 4,
 "nbformat_minor": 2
}
