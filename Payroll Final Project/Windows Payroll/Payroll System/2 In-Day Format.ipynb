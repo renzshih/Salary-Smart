{
 "cells": [
  {
   "cell_type": "code",
   "execution_count": 1,
   "metadata": {},
   "outputs": [
    {
     "name": "stdout",
     "output_type": "stream",
     "text": [
      "User Name: ASUS\n"
     ]
    }
   ],
   "source": [
    "user_name = input(\"User Name: \")\n",
    "directory1 = \"C:\\\\Users\\\\\"\n",
    "directory2 = \"\\\\Desktop\\\\Payroll System\"\n",
    "directory = directory1 + user_name + directory2"
   ]
  },
  {
   "cell_type": "code",
   "execution_count": 2,
   "metadata": {},
   "outputs": [],
   "source": [
    "#Creates a writeable csv with name \"In-DayX.csv\"\n",
    "with open(directory + '\\\\In-DayX.csv',\"w\") as Output:\n",
    "    Output.write('ID Number'+\",\"+'Time In'+\",\"+'Time Out'+\",\"+'Deductibles'+\n",
    "                 \",\"+'Bonus'+\"\\n\")"
   ]
  },
  {
   "cell_type": "code",
   "execution_count": null,
   "metadata": {},
   "outputs": [],
   "source": []
  }
 ],
 "metadata": {
  "kernelspec": {
   "display_name": "Python 3",
   "language": "python",
   "name": "python3"
  },
  "language_info": {
   "codemirror_mode": {
    "name": "ipython",
    "version": 3
   },
   "file_extension": ".py",
   "mimetype": "text/x-python",
   "name": "python",
   "nbconvert_exporter": "python",
   "pygments_lexer": "ipython3",
   "version": "3.7.3"
  }
 },
 "nbformat": 4,
 "nbformat_minor": 2
}
